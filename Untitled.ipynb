{
 "cells": [
  {
   "cell_type": "code",
   "execution_count": 63,
   "metadata": {
    "collapsed": true
   },
   "outputs": [],
   "source": [
    "%matplotlib inline\n",
    "import pandas as pd\n",
    "import numpy as np\n",
    "from matplotlib import pyplot as plt\n",
    "\n",
    "\n",
    "import cx_Oracle\n",
    "connection_parameters = {\n",
    "    'user': 'EFIS', \n",
    "    'password': 'EFIS', \n",
    "    'dsn': 'rdoratst5.ortec.finance:1521/db01'\n",
    "}\n",
    "\n",
    "class ScenarioApp(object):\n",
    "    def __init__(self):\n",
    "        self.con = cx_Oracle.connect(**connection_parameters)\n",
    "        self.cur = self.con.cursor()\n",
    "        self.scen_sets = {name:scen_id for name, scen_id in self.cur.execute('select name, scen_set_id from scen_app_scen_sets').fetchall()}\n",
    "        self.variables = {name:var_id for name, var_id in self.cur.execute('select screen_name, id from variables').fetchall()}\n",
    "        self.methods = {(name, q, yearly):method_id for name, q, yearly, method_id in self.cur.execute('select name, quantile, yearly, id from methods').fetchall()}\n",
    "        \n",
    "        \n",
    "    def get_history(self, variable_id):\n",
    "        return pd.read_sql(\n",
    "            'SELECT value, observation FROM history WHERE variable_id=:variable_id',\n",
    "            params={'variable_id':variable_id},\n",
    "            index_col='OBSERVATION',\n",
    "            con=self.con\n",
    "        )\n",
    "        \n",
    "    \n",
    "    def get_cloud(self, scen_set_id, variable_id):\n",
    "        return pd.read_sql(\n",
    "                '''SELECT value, observation, simulation_id FROM cloud_data\n",
    "                INNER JOIN cloud_dim ON cloud_data.dim_id = cloud_dim.id AND scen_set_id=:scen_set_id AND variable_id=:variable_id''',\n",
    "                con=self.con,\n",
    "                params={'scen_set_id':scen_set_id, 'variable_id':variable_id}\n",
    "            ).pivot(index='OBSERVATION', columns='SIMULATION_ID', values='VALUE')\n",
    "    \n",
    "    def get_statistic(self, scen_set_id, variable_id, method_id):\n",
    "        return pd.read_sql(\n",
    "                '''SELECT value, observation FROM statistics_data data\n",
    "                INNER JOIN statistics_dim dim ON data.dim_id = dim.id AND scen_set_id=:scen_set_id AND variable_id=:variable_id and method_id=:method_id\n",
    "                ORDER BY observation ASC''',\n",
    "                con=self.con,\n",
    "                index_col='OBSERVATION',\n",
    "                params={'scen_set_id':scen_set_id, 'variable_id':variable_id, 'method_id':method_id}\n",
    "            )"
   ]
  },
  {
   "cell_type": "code",
   "execution_count": 69,
   "metadata": {
    "collapsed": true
   },
   "outputs": [
    {
     "data": {
      "text/plain": [
       "{'10-year corp. HY spread EUR': 46,\n",
       " '10-year corp. HY spread GB': 13,\n",
       " '10-year corp. HY spread US': 21,\n",
       " '10-year corp. IG spread EUR': 59,\n",
       " '10-year corp. IG spread GB': 30,\n",
       " '10-year corp. IG spread US': 61,\n",
       " '10-year gov. bond yield CAN': 72,\n",
       " '10-year gov. bond yield GER': 20,\n",
       " '10-year gov. bond yield JAP': 29,\n",
       " '10-year gov. bond yield SWI': 19,\n",
       " '10-year gov. bond yield UK': 82,\n",
       " '10-year gov. bond yield US': 58,\n",
       " '3-month corp. HY spread EUR': 49,\n",
       " '3-month corp. HY spread GB': 15,\n",
       " '3-month corp. HY spread US': 70,\n",
       " '3-month corp. IG spread EUR': 71,\n",
       " '3-month corp. IG spread GB': 55,\n",
       " '3-month corp. IG spread US': 6,\n",
       " '3-month gov. bond yield CAN': 0,\n",
       " '3-month gov. bond yield GER': 23,\n",
       " '3-month gov. bond yield JAP': 78,\n",
       " '3-month gov. bond yield SWI': 32,\n",
       " '3-month gov. bond yield UK': 39,\n",
       " '3-month gov. bond yield US': 66,\n",
       " 'Brent oil': 48,\n",
       " 'Business Cycle indicator 1': 64,\n",
       " 'Business Cycle indicator 10': 54,\n",
       " 'Business Cycle indicator 2': 76,\n",
       " 'Business Cycle indicator 3': 36,\n",
       " 'Business Cycle indicator 4': 65,\n",
       " 'Business Cycle indicator 5': 2,\n",
       " 'Business Cycle indicator 6': 17,\n",
       " 'Business Cycle indicator 7': 28,\n",
       " 'Business Cycle indicator 8': 31,\n",
       " 'Business Cycle indicator 9': 5,\n",
       " 'Consumer price index CAN': 63,\n",
       " 'Consumer price index EUR': 68,\n",
       " 'Consumer price index JAP': 67,\n",
       " 'Consumer price index SWI': 56,\n",
       " 'Consumer price index UK': 18,\n",
       " 'Consumer price index US': 62,\n",
       " 'EUR/CAD': 50,\n",
       " 'EUR/CHF': 4,\n",
       " 'EUR/GBP': 16,\n",
       " 'EUR/JPY': 38,\n",
       " 'EUR/USD': 73,\n",
       " 'Equities CAN': 69,\n",
       " 'Equities EMM (USD)': 41,\n",
       " 'Equities EUR': 25,\n",
       " 'Equities JAP': 44,\n",
       " 'Equities NL': 45,\n",
       " 'Equities SWI': 24,\n",
       " 'Equities UK': 22,\n",
       " 'Equities US': 3,\n",
       " 'Equities World (USD)': 60,\n",
       " 'GDP CAN': 14,\n",
       " 'GDP ESP': 26,\n",
       " 'GDP FRA': 80,\n",
       " 'GDP GER': 34,\n",
       " 'GDP IT': 77,\n",
       " 'GDP JAP': 81,\n",
       " 'GDP NL': 11,\n",
       " 'GDP SWI': 9,\n",
       " 'GDP UK': 75,\n",
       " 'GDP US': 74,\n",
       " 'GSCI Agriculture': 8,\n",
       " 'GSCI Energy': 37,\n",
       " 'GSCI Industrial Metals': 53,\n",
       " 'GSCI Livestock': 47,\n",
       " 'GSCI Precious Metals': 33,\n",
       " 'Gold': 79,\n",
       " 'Monthly Cycle indicator 1': 52,\n",
       " 'Monthly Cycle indicator 10': 35,\n",
       " 'Monthly Cycle indicator 2': 7,\n",
       " 'Monthly Cycle indicator 3': 42,\n",
       " 'Monthly Cycle indicator 4': 43,\n",
       " 'Monthly Cycle indicator 5': 1,\n",
       " 'Monthly Cycle indicator 6': 10,\n",
       " 'Monthly Cycle indicator 7': 51,\n",
       " 'Monthly Cycle indicator 8': 12,\n",
       " 'Monthly Cycle indicator 9': 40,\n",
       " 'NL House price index': 57,\n",
       " 'US House price index': 27}"
      ]
     },
     "execution_count": 69,
     "metadata": {},
     "output_type": "execute_result"
    }
   ],
   "source": [
    "sa.variables"
   ]
  },
  {
   "cell_type": "code",
   "execution_count": 70,
   "metadata": {
    "collapsed": true
   },
   "outputs": [],
   "source": [
    "sa = ScenarioApp()\n",
    "var_id = sa.variables['Equities US']\n",
    "method_id = sa.methods[('mean', None, False)]\n",
    "scen_set_id = sa.scen_sets['May17_OFS_pure_model']"
   ]
  },
  {
   "cell_type": "code",
   "execution_count": 65,
   "metadata": {
    "collapsed": true
   },
   "outputs": [],
   "source": [
    "var_id = 4\n",
    "scen_set_Id = 148"
   ]
  },
  {
   "cell_type": "code",
   "execution_count": 71,
   "metadata": {},
   "outputs": [],
   "source": [
    "dh = sa.get_history(var_id)"
   ]
  },
  {
   "cell_type": "code",
   "execution_count": 72,
   "metadata": {
    "collapsed": true
   },
   "outputs": [],
   "source": [
    "df = sa.get_cloud(scen_set_id, var_id)"
   ]
  },
  {
   "cell_type": "code",
   "execution_count": 73,
   "metadata": {
    "collapsed": true
   },
   "outputs": [],
   "source": [
    "dg = sa.get_statistic(scen_set_id, var_id, method_id)\n",
    "# sa.scen_sets"
   ]
  },
  {
   "cell_type": "code",
   "execution_count": 74,
   "metadata": {
    "scrolled": true
   },
   "outputs": [
    {
     "data": {
      "text/plain": [
       "<matplotlib.axes._subplots.AxesSubplot at 0x2c1be5f8>"
      ]
     },
     "execution_count": 74,
     "metadata": {},
     "output_type": "execute_result"
    },
    {
     "data": {
      "image/png": "[encoded data removed]",
      "text/plain": [
       "<matplotlib.figure.Figure at 0x2c19d780>"
      ]
     },
     "metadata": {},
     "output_type": "display_data"
    }
   ],
   "source": [
    "fig, ax = plt.subplots()\n",
    "df.plot(legend=None, alpha=.05, ax=ax, c='b')\n",
    "dg.plot(legend=None, ax=ax, c='k')\n",
    "dh.plot(legend=None, ax=ax, c='g')"
   ]
  },
  {
   "cell_type": "code",
   "execution_count": 89,
   "metadata": {},
   "outputs": [
    {
     "data": {
      "text/plain": [
       "0.035742332926684654"
      ]
     },
     "execution_count": 89,
     "metadata": {},
     "output_type": "execute_result"
    }
   ],
   "source": [
    "np.exp(df.loc[pd.datetime(2020, 5, 31), :]-dh.iloc[-1].values).pow(1./3).sub(1).mean()"
   ]
  },
  {
   "cell_type": "code",
   "execution_count": 91,
   "metadata": {},
   "outputs": [
    {
     "data": {
      "text/plain": [
       "0.333333"
      ]
     },
     "execution_count": 91,
     "metadata": {},
     "output_type": "execute_result"
    }
   ],
   "source": [
    "round(1./3, 6)\n"
   ]
  }
 ],
 "metadata": {
  "kernelspec": {
   "display_name": "Python 2",
   "language": "python",
   "name": "python2"
  },
  "language_info": {
   "codemirror_mode": {
    "name": "ipython",
    "version": 2
   },
   "file_extension": ".py",
   "mimetype": "text/x-python",
   "name": "python",
   "nbconvert_exporter": "python",
   "pygments_lexer": "ipython2",
   "version": "2.7.13"
  }
 },
 "nbformat": 4,
 "nbformat_minor": 2
}
