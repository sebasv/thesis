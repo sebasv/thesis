{
 "cells": [
  {
   "cell_type": "code",
   "execution_count": 38,
   "metadata": {
    "collapsed": true
   },
   "outputs": [],
   "source": [
    "%matplotlib inline\n",
    "import numpy as np\n",
    "import pandas as pd\n",
    "import sqlite3\n",
    "from scipy import stats, optimize, interpolate\n",
    "from matplotlib import pyplot as plt"
   ]
  },
  {
   "cell_type": "code",
   "execution_count": 237,
   "metadata": {},
   "outputs": [],
   "source": [
    "with sqlite3.connect(r'd:\\data\\scriptie\\wrds.sqlite') as con:\n",
    "    bla = pd.read_sql(\n",
    "        \"\"\"select strike_price/close strike, (best_bid+best_offer)/2/close option, rate rf, maturity/365. t , best_bid, best_offer\n",
    "        from spx where date(observation) = date('2000-09-01') and maturity=15 order by strike\"\"\",\n",
    "        con)"
   ]
  },
  {
   "cell_type": "code",
   "execution_count": 238,
   "metadata": {
    "scrolled": false
   },
   "outputs": [
    {
     "name": "stderr",
     "output_type": "stream",
     "text": [
      "C:\\ProgramData\\Anaconda3\\lib\\site-packages\\ipykernel_launcher.py:4: RuntimeWarning: divide by zero encountered in double_scalars\n",
      "  after removing the cwd from sys.path.\n",
      "C:\\ProgramData\\Anaconda3\\lib\\site-packages\\ipykernel_launcher.py:4: RuntimeWarning: invalid value encountered in double_scalars\n",
      "  after removing the cwd from sys.path.\n",
      "C:\\ProgramData\\Anaconda3\\lib\\site-packages\\scipy\\stats\\_distn_infrastructure.py:879: RuntimeWarning: invalid value encountered in greater\n",
      "  return (self.a < x) & (x < self.b)\n",
      "C:\\ProgramData\\Anaconda3\\lib\\site-packages\\scipy\\stats\\_distn_infrastructure.py:879: RuntimeWarning: invalid value encountered in less\n",
      "  return (self.a < x) & (x < self.b)\n",
      "C:\\ProgramData\\Anaconda3\\lib\\site-packages\\scipy\\stats\\_distn_infrastructure.py:1735: RuntimeWarning: invalid value encountered in greater_equal\n",
      "  cond2 = (x >= self.b) & cond0\n"
     ]
    },
    {
     "data": {
      "text/plain": [
       "[<matplotlib.lines.Line2D at 0x21e473ba5c0>]"
      ]
     },
     "execution_count": 238,
     "metadata": {},
     "output_type": "execute_result"
    },
    {
     "data": {
      "image/png": "[encoded data removed]",
      "text/plain": [
       "<matplotlib.figure.Figure at 0x21e4733b748>"
      ]
     },
     "metadata": {},
     "output_type": "display_data"
    }
   ],
   "source": [
    "bla['imp_vol'] = bla.apply(lambda row: optimize.minimize_scalar(C(row), method='golden', tol=1e-12).x, axis=1)\n",
    "optimize.minimize_scalar(C(bla.iloc[1,:]), method='golden', tol=1e-12)\n",
    "plt.plot(bla.strike, bla.imp_vol)\n",
    "# bla"
   ]
  },
  {
   "cell_type": "code",
   "execution_count": 239,
   "metadata": {},
   "outputs": [
    {
     "data": {
      "text/plain": [
       "[<matplotlib.lines.Line2D at 0x21e4744d198>,\n",
       " <matplotlib.lines.Line2D at 0x21e4744d3c8>]"
      ]
     },
     "execution_count": 239,
     "metadata": {},
     "output_type": "execute_result"
    },
    {
     "data": {
      "image/png": "[encoded data removed]",
      "text/plain": [
       "<matplotlib.figure.Figure at 0x21e47121048>"
      ]
     },
     "metadata": {},
     "output_type": "display_data"
    }
   ],
   "source": [
    "plt.plot(bla.strike, bla.best_bid, bla.strike, bla.best_offer)"
   ]
  },
  {
   "cell_type": "code",
   "execution_count": 199,
   "metadata": {
    "collapsed": true
   },
   "outputs": [],
   "source": [
    "def C(row):\n",
    "    ks, cs, t, r = row.loc[['strike', 'option', 't', 'rf']].values\n",
    "    def blep(sigma):\n",
    "        d1 = ( sigma/2 + r/sigma )*np.sqrt(t) - np.log(ks)/np.sqrt(t)/sigma\n",
    "        return ( stats.norm.cdf(d1) - ks*np.exp(-r*t)*stats.norm.cdf(d1-sigma*np.sqrt(t)) - cs )**2\n",
    "    return blep\n",
    "    # TODO\n",
    "    \n",
    "    # HIERO HIER WAS JE HIERO KIJK DAN\n",
    "    \n",
    "# C = lambda s, t: lambda sigma: s*(stats.norm.cdf(sigma/2*np.sqrt(t)) - stats.norm.cdf(-sigma/2*np.sqrt(t)))\n",
    "# L = lambda t, cs: lambda sigma: ( 2*stats.norm.cdf(sigma/2*np.sqrt(t)) - 1 - cs)**2"
   ]
  },
  {
   "cell_type": "code",
   "execution_count": 39,
   "metadata": {
    "collapsed": true
   },
   "outputs": [],
   "source": [
    "options = pd.read_csv('options.csv').drop(['secid', 'index_flag', 'issue_type'], axis=1)\n",
    "zerocd = pd.read_csv('zero_coupon_dividend.csv')\n",
    "options.date = pd.to_datetime(options.date, format='%Y%m%d')\n",
    "zerocd.date = pd.to_datetime(zerocd.date, format='%Y%m%d')\n",
    "options['premiumfrac'] = options.premium / options.forward_price\n",
    "options['T'] = options.days/364"
   ]
  },
  {
   "cell_type": "code",
   "execution_count": 31,
   "metadata": {
    "collapsed": true
   },
   "outputs": [],
   "source": [
    "options.zerocd = np.log(options.zerocd.div(100).add(1))\n",
    "calls = options.loc[options.cp_flag == 'C', :]\n",
    "puts = options.loc[options.cp_flag == 'P', :]"
   ]
  },
  {
   "cell_type": "code",
   "execution_count": 37,
   "metadata": {},
   "outputs": [
    {
     "name": "stderr",
     "output_type": "stream",
     "text": [
      "C:\\ProgramData\\Anaconda3\\lib\\site-packages\\ipykernel_launcher.py:4: RuntimeWarning: divide by zero encountered in double_scalars\n",
      "  after removing the cwd from sys.path.\n"
     ]
    },
    {
     "data": {
      "text/plain": [
       "     fun: 1.6020826735645903e-24\n",
       "    nfev: 12\n",
       "     nit: 11\n",
       " success: True\n",
       "       x: 0.18237500122151623"
      ]
     },
     "execution_count": 37,
     "metadata": {},
     "output_type": "execute_result"
    }
   ],
   "source": [
    "# options['my_imp_vol'] = options.apply(lambda row: optimize.minimize_scalar(Crow).x, axis=1)\n",
    "optimize.minimize_scalar(C( options.loc[5662, :] ))\n",
    "# options.loc[5662, ['T', 'premiumfrac']].values"
   ]
  },
  {
   "cell_type": "code",
   "execution_count": 86,
   "metadata": {},
   "outputs": [
    {
     "data": {
      "text/plain": [
       "<matplotlib.collections.PathCollection at 0x2347fe81550>"
      ]
     },
     "execution_count": 86,
     "metadata": {},
     "output_type": "execute_result"
    },
    {
     "data": {
      "image/png": "[encoded data removed]",
      "text/plain": [
       "<matplotlib.figure.Figure at 0x23411323860>"
      ]
     },
     "metadata": {},
     "output_type": "display_data"
    }
   ],
   "source": [
    "# options.merge(sec, on=['date', 'ticker'])\n",
    "# sec.loc[sec.volume > 0, :]\n",
    "options.loc[options.date=='2006-05-19']\n",
    "# sec.loc[sec.date == '2006-05-19']\n",
    "# _x = np.arange(-3,3,.01)\n",
    "# plt.plot(_x, stats.norm.cdf(_x) - stats.norm.cdf(-_x), 'b')\n",
    "# plt.plot(_x, 2*stats.norm.cdf(_x)-1, 'k')\n",
    "plt.scatter(options.my_imp_vol, options.impl_volatility)"
   ]
  }
 ],
 "metadata": {
  "kernelspec": {
   "display_name": "Python 3",
   "language": "python",
   "name": "python3"
  },
  "language_info": {
   "codemirror_mode": {
    "name": "ipython",
    "version": 3
   },
   "file_extension": ".py",
   "mimetype": "text/x-python",
   "name": "python",
   "nbconvert_exporter": "python",
   "pygments_lexer": "ipython3",
   "version": "3.6.1"
  }
 },
 "nbformat": 4,
 "nbformat_minor": 2
}
