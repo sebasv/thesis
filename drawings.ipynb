{
 "cells": [
  {
   "cell_type": "code",
   "execution_count": 16,
   "metadata": {},
   "outputs": [],
   "source": [
    "# %matplotlib inline\n",
    "import pandas as pd\n",
    "import numpy as np\n",
    "from scipy import stats\n",
    "import matplotlib\n",
    "# matplotlib.use('TkAgg')\n",
    "from matplotlib import pyplot as plt\n",
    "from matplotlib.colors import LogNorm\n",
    "from matplotlib.path import Path\n",
    "import matplotlib.patches as patches\n",
    "from matplotlib2tikz import save as tikz_save\n",
    "import subprocess"
   ]
  },
  {
   "cell_type": "code",
   "execution_count": 2,
   "metadata": {
    "collapsed": true
   },
   "outputs": [],
   "source": [
    "N = int(1e4)\n",
    "K = int(1e3)\n",
    "X = np.arange(0, 1, 1/N)\n",
    "W = np.random.normal(loc = .1/N, scale=.1/np.sqrt(N), size=(K,N))\n",
    "S = np.exp(np.cumsum(W, 1)).T"
   ]
  },
  {
   "cell_type": "code",
   "execution_count": 21,
   "metadata": {
    "collapsed": true
   },
   "outputs": [],
   "source": [
    "ax.hist2d(np.repeat(X, K), S.flatten(), bins=100, norm=LogNorm());\n",
    "# plt.colorbar();"
   ]
  },
  {
   "cell_type": "code",
   "execution_count": 45,
   "metadata": {
    "collapsed": true
   },
   "outputs": [],
   "source": [
    "plt.close('all')"
   ]
  },
  {
   "cell_type": "code",
   "execution_count": 44,
   "metadata": {
    "collapsed": true
   },
   "outputs": [],
   "source": [
    "# plt.plot(X,S)\n",
    "fig, ax = plt.subplots(figsize=(6,3), frameon=False)\n",
    "lo, hi = .45, 1.9\n",
    "steps = np.array([0, 2/3, 1])\n",
    "\n",
    "def plut(f, t, m, direction=1):\n",
    "    ma, mi = m*np.power(hi, t-f), m*np.power(lo, t-f)\n",
    "#     ax.vlines([t], mi, ma, colors='k', label=label)\n",
    "#     ax.scatter([t, t], [mi, ma], c='k', marker='_')\n",
    "    ax.plot([f,t], [m,mi], 'r:')\n",
    "    ax.plot([f,t], [m,ma], 'g--')\n",
    "    \n",
    "    path = Path([(t,mi), (t+direction*(ma-mi)*.05, m), (t,ma)], [Path.MOVETO, Path.CURVE3, Path.CURVE3])\n",
    "    patch = patches.PathPatch(path, facecolor='none', lw=1)\n",
    "    ax.add_patch(patch)\n",
    "    \n",
    "plut(0,1,1)\n",
    "\n",
    "plut(0,steps[1], 1, direction=-1)\n",
    "\n",
    "for f,t in zip(steps[1:-1], steps[2:]):\n",
    "    plut(f, t, np.power(hi, f), direction=-1)\n",
    "    plut(f, t, np.power(lo, f), direction=-1)\n",
    "\n",
    "ax.annotate(\n",
    "    r'$\\bar b(X_{2/3}\\mid X_{0})$', xy=(2/3, np.power(hi, 2/3)), xytext=(.15, np.power(hi, 2/3)),\n",
    "    arrowprops=dict(facecolor='black', arrowstyle='->'),\n",
    "            horizontalalignment='left',\n",
    "            verticalalignment='center',\n",
    ")\n",
    "ax.annotate(\n",
    "    r'$\\bar b(X_{1}\\mid \\bar b(X_{2/3}\\mid X_0)) = \\bar b(X_{1}\\mid X_{0})$', xy=(1, np.power(hi, 1)), xytext=(.15, np.power(hi, 1)),\n",
    "    arrowprops=dict(facecolor='black', arrowstyle='->'),\n",
    "            horizontalalignment='left',\n",
    "            verticalalignment='center',\n",
    ")\n",
    "\n",
    "ax.set_yticks([])\n",
    "fig.show()\n",
    "\n",
    "# tikz_save('../scriptie/img/timeconsistency.tex', figureheight='1.5in', figurewidth='4in')\n",
    "# print(subprocess.check_output(r'cd ..\\scriptie\\ && git commit -a -m \"img\" && git pull && git push', shell=True).decode('utf-8'))"
   ]
  },
  {
   "cell_type": "code",
   "execution_count": 55,
   "metadata": {},
   "outputs": [
    {
     "data": {
      "text/plain": [
       "array([ 0.        ,  0.33333333,  0.66666667,  1.        ])"
      ]
     },
     "execution_count": 113,
     "metadata": {},
     "output_type": "execute_result"
    }
   ],
   "source": [
    "def f(y): x=y-1;return 1 -x/2 + x**2/3 -x**3/4 +x**4/5 - x**5/6 + x**6/7\n",
    "x = np.arange(0,1,.01)+1e-4\n",
    "plt.plot(x, f(x))\n",
    "plt.gcf().show()"
   ]
  },
  {
   "cell_type": "code",
   "execution_count": 26,
   "metadata": {},
   "outputs": [
    {
     "data": {
      "image/png": "[encoded data removed]",
      "text/plain": [
       "<matplotlib.figure.Figure at 0x13396ab1be0>"
      ]
     },
     "metadata": {},
     "output_type": "display_data"
    }
   ],
   "source": [
    "s = lambda l: stats.norm.ppf(l, scale=1)\n",
    "x = np.arange(0,1.01,.01)\n",
    "plt.plot(x, s(x))\n",
    "plt.show()"
   ]
  }
 ],
 "metadata": {
  "kernelspec": {
   "display_name": "Python 3",
   "language": "python",
   "name": "python3"
  },
  "language_info": {
   "codemirror_mode": {
    "name": "ipython",
    "version": 3
   },
   "file_extension": ".py",
   "mimetype": "text/x-python",
   "name": "python",
   "nbconvert_exporter": "python",
   "pygments_lexer": "ipython3",
   "version": "3.6.1"
  }
 },
 "nbformat": 4,
 "nbformat_minor": 2
}
