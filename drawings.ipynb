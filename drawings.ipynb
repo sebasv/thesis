{
 "cells": [
  {
   "cell_type": "code",
   "execution_count": 88,
   "metadata": {},
   "outputs": [],
   "source": [
    "# %matplotlib inline\n",
    "import pandas as pd\n",
    "import numpy as np\n",
    "import matplotlib\n",
    "matplotlib.use('TkAgg')\n",
    "from matplotlib import pyplot as plt\n",
    "from matplotlib.colors import LogNorm\n",
    "from matplotlib.path import Path\n",
    "import matplotlib.patches as patches\n",
    "from matplotlib2tikz import save as tikz_save\n",
    "import subprocess"
   ]
  },
  {
   "cell_type": "code",
   "execution_count": 2,
   "metadata": {},
   "outputs": [],
   "source": [
    "N = int(1e4)\n",
    "K = int(1e3)\n",
    "X = np.arange(0, 1, 1/N)\n",
    "W = np.random.normal(loc = .1/N, scale=.1/np.sqrt(N), size=(K,N))\n",
    "S = np.exp(np.cumsum(W, 1)).T"
   ]
  },
  {
   "cell_type": "code",
   "execution_count": 21,
   "metadata": {},
   "outputs": [],
   "source": [
    "ax.hist2d(np.repeat(X, K), S.flatten(), bins=100, norm=LogNorm());\n",
    "# plt.colorbar();"
   ]
  },
  {
   "cell_type": "code",
   "execution_count": 116,
   "metadata": {},
   "outputs": [
    {
     "name": "stdout",
     "output_type": "stream",
     "text": [
      "Horizontal alignment will be ignored as no 'x tick label text width' has been passed in the 'extra' parameter\n",
      "Horizontal alignment will be ignored as no 'y tick label text width' has been passed in the 'extra' parameter\n",
      "=========================================================\n",
      "Please add the following lines to your LaTeX preamble:\n",
      "\n",
      "\\usepackage[utf8]{inputenc}\n",
      "\\usepackage{fontspec} % This line only for XeLaTeX and LuaLaTeX\n",
      "\\usepackage{pgfplots}\n",
      "=========================================================\n",
      "[master 2ec41f9] img\n",
      " 1 file changed, 123 insertions(+), 113 deletions(-)\n",
      "Already up-to-date.\n",
      "\n"
     ]
    }
   ],
   "source": [
    "# plt.plot(X,S)\n",
    "fig, ax = plt.subplots(figsize=(6,3))\n",
    "lo, hi = .45, 1.9\n",
    "steps = np.array([0, 2/3, 1])\n",
    "\n",
    "def plut(f, t, m, direction=1):\n",
    "    ma, mi = m*np.power(hi, t-f), m*np.power(lo, t-f)\n",
    "#     ax.vlines([t], mi, ma, colors='k', label=label)\n",
    "#     ax.scatter([t, t], [mi, ma], c='k', marker='_')\n",
    "    ax.plot([f,t], [m,mi], 'r:')\n",
    "    ax.plot([f,t], [m,ma], 'g--')\n",
    "    \n",
    "    path = Path([(t,mi), (t+direction*(ma-mi)*.05, m), (t,ma)], [Path.MOVETO, Path.CURVE3, Path.CURVE3])\n",
    "    patch = patches.PathPatch(path, facecolor='none', lw=1)\n",
    "    ax.add_patch(patch)\n",
    "    \n",
    "plut(0,1,1)\n",
    "\n",
    "plut(0,steps[0], 1, direction=-1)\n",
    "\n",
    "for f,t in zip(steps[:-1], steps[1:]):\n",
    "    plut(f, t, np.power(hi, f), direction=-1)\n",
    "    plut(f, t, np.power(lo, f), direction=-1)\n",
    "\n",
    "fig.show()\n",
    "ax.grid(False)\n",
    "\n",
    "ax.annotate(\n",
    "    r'$\\bar b(X_{2/3}\\mid X_{0})$', xy=(2/3, np.power(hi, 2/3)), xytext=(.15, np.power(hi, 2/3)),\n",
    "    arrowprops=dict(facecolor='black', arrowstyle='->'),\n",
    "            horizontalalignment='left',\n",
    "            verticalalignment='center',\n",
    ")\n",
    "ax.annotate(\n",
    "    r'$\\bar b(X_{1}\\mid \\bar b(X_{2/3}\\mid X_0)) = \\bar b(X_{1}\\mid X_{0})$', xy=(1, np.power(hi, 1)), xytext=(.15, np.power(hi, 1)),\n",
    "    arrowprops=dict(facecolor='black', arrowstyle='->'),\n",
    "            horizontalalignment='left',\n",
    "            verticalalignment='center',\n",
    ")\n",
    "fig.show()\n",
    "\n",
    "tikz_save('../scriptie/img/timeconsistency.tex', figureheight='1.5in', figurewidth='4in')\n",
    "print(subprocess.check_output(r'cd ..\\scriptie\\ && git commit -a -m \"img\" && git pull && git push', shell=True).decode('utf-8'))"
   ]
  },
  {
   "cell_type": "code",
   "execution_count": 113,
   "metadata": {},
   "outputs": [
    {
     "data": {
      "text/plain": [
       "array([ 0.        ,  0.33333333,  0.66666667,  1.        ])"
      ]
     },
     "execution_count": 113,
     "metadata": {},
     "output_type": "execute_result"
    }
   ],
   "source": [
    "steps"
   ]
  }
 ],
 "metadata": {
  "kernelspec": {
   "display_name": "Python 3",
   "language": "python",
   "name": "python3"
  },
  "language_info": {
   "codemirror_mode": {
    "name": "ipython",
    "version": 3
   },
   "file_extension": ".py",
   "mimetype": "text/x-python",
   "name": "python",
   "nbconvert_exporter": "python",
   "pygments_lexer": "ipython3",
   "version": "3.6.1"
  }
 },
 "nbformat": 4,
 "nbformat_minor": 2
}
