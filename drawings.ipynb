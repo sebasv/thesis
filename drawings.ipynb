{
 "cells": [
  {
   "cell_type": "code",
   "execution_count": 1,
   "metadata": {
    "collapsed": true
   },
   "outputs": [],
   "source": [
    "# %matplotlib inline\n",
    "import pandas as pd\n",
    "import numpy as np\n",
    "import matplotlib\n",
    "matplotlib.use('TkAgg')\n",
    "from matplotlib import pyplot as plt\n",
    "from matplotlib.colors import LogNorm"
   ]
  },
  {
   "cell_type": "code",
   "execution_count": 2,
   "metadata": {},
   "outputs": [],
   "source": [
    "N = int(1e4)\n",
    "K = int(1e3)\n",
    "X = np.arange(0, 1, 1/N)\n",
    "W = np.random.normal(loc = .1/N, scale=.1/np.sqrt(N), size=(K,N))\n",
    "S = np.exp(np.cumsum(W, 1)).T"
   ]
  },
  {
   "cell_type": "code",
   "execution_count": 21,
   "metadata": {},
   "outputs": [],
   "source": [
    "# plt.plot(X,S)\n",
    "fig, ax = plt.subplots()\n",
    "ax.hist2d(np.repeat(X, K), S.flatten(), bins=100, norm=LogNorm());\n",
    "# plt.colorbar();"
   ]
  },
  {
   "cell_type": "code",
   "execution_count": 22,
   "metadata": {},
   "outputs": [],
   "source": [
    "def plut(f, t, m, mi, ma, c= 'r'):\n",
    "    ax.vlines([t], mi, ma, colors=c)\n",
    "    ax.scatter([t, t], [mi, ma], c=c, marker='_')\n",
    "    ax.plot([t,f,t], [ma,m,mi], c+'-.')\n",
    "    \n",
    "plut(0,1,1,.8,1.4, c='k')\n",
    "\n",
    "plut(0,1/3, 1, .95, 1.1)\n",
    "\n",
    "plut(1/3, 2/3, .95, .9, 1)\n",
    "plut(1/3, 2/3, 1.1, 1.25, 1.05)\n",
    "\n",
    "plut(2/3, 1, .9, .8, .93)\n",
    "plut(2/3, 1, 1.25, 1.15, 1.4)\n",
    "\n",
    "fig.show()"
   ]
  },
  {
   "cell_type": "code",
   "execution_count": null,
   "metadata": {
    "collapsed": true
   },
   "outputs": [],
   "source": [
    "# verzin een functie die overal lekker doorheen curved"
   ]
  }
 ],
 "metadata": {
  "kernelspec": {
   "display_name": "Python 3",
   "language": "python",
   "name": "python3"
  },
  "language_info": {
   "codemirror_mode": {
    "name": "ipython",
    "version": 3
   },
   "file_extension": ".py",
   "mimetype": "text/x-python",
   "name": "python",
   "nbconvert_exporter": "python",
   "pygments_lexer": "ipython3",
   "version": "3.6.1"
  }
 },
 "nbformat": 4,
 "nbformat_minor": 2
}
